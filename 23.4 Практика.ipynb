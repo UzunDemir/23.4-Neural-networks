{
 "cells": [
  {
   "cell_type": "code",
   "execution_count": 3,
   "id": "80b33e82",
   "metadata": {
    "id": "80b33e82"
   },
   "outputs": [],
   "source": [
    "# Импортируем необходимые библиотеки\n",
    "import matplotlib.pyplot as plt\n",
    "import pandas as pd\n",
    "\n",
    "from sklearn.linear_model import LogisticRegression\n",
    "from sklearn.metrics import accuracy_score, confusion_matrix\n",
    "from sklearn.model_selection import train_test_split\n",
    "from sklearn.neural_network import MLPClassifier"
   ]
  },
  {
   "cell_type": "markdown",
   "id": "965cf0d8",
   "metadata": {
    "id": "965cf0d8"
   },
   "source": [
    "Описание данных: \n",
    "\n",
    "*gender* - пол\n",
    "\n",
    "*age*  - возраст\n",
    "\n",
    "*hypertension* - страдает ли пациент гипертонией\n",
    "\n",
    "*heart_disease* - есть ли болезни сердца\n",
    "\n",
    "*ever_married* - был ли женат/замужем\n",
    "\n",
    "*work_type*  - тип работы\n",
    "\n",
    "*Residence_type* - проживает в городе или селе\n",
    "\n",
    "*avg_glucose_level* - средний уровень глюкозы\n",
    "\n",
    "*bmi* - индекс массы тела\n",
    "\n",
    "*smoking_status* - информация о курении\n",
    "\n",
    "*stroke* - целевая переменная инсульт был или нет "
   ]
  },
  {
   "cell_type": "code",
   "execution_count": 4,
   "id": "14eb4df8",
   "metadata": {
    "id": "14eb4df8",
    "outputId": "6540dab7-9b5f-4956-d556-d96122bdedef"
   },
   "outputs": [
    {
     "data": {
      "text/html": [
       "<div>\n",
       "<style scoped>\n",
       "    .dataframe tbody tr th:only-of-type {\n",
       "        vertical-align: middle;\n",
       "    }\n",
       "\n",
       "    .dataframe tbody tr th {\n",
       "        vertical-align: top;\n",
       "    }\n",
       "\n",
       "    .dataframe thead th {\n",
       "        text-align: right;\n",
       "    }\n",
       "</style>\n",
       "<table border=\"1\" class=\"dataframe\">\n",
       "  <thead>\n",
       "    <tr style=\"text-align: right;\">\n",
       "      <th></th>\n",
       "      <th>gender</th>\n",
       "      <th>age</th>\n",
       "      <th>hypertension</th>\n",
       "      <th>heart_disease</th>\n",
       "      <th>ever_married</th>\n",
       "      <th>work_type</th>\n",
       "      <th>Residence_type</th>\n",
       "      <th>avg_glucose_level</th>\n",
       "      <th>bmi</th>\n",
       "      <th>smoking_status</th>\n",
       "      <th>stroke</th>\n",
       "    </tr>\n",
       "  </thead>\n",
       "  <tbody>\n",
       "    <tr>\n",
       "      <th>0</th>\n",
       "      <td>0</td>\n",
       "      <td>73</td>\n",
       "      <td>0</td>\n",
       "      <td>0</td>\n",
       "      <td>1</td>\n",
       "      <td>0</td>\n",
       "      <td>1</td>\n",
       "      <td>143.509078</td>\n",
       "      <td>29.160236</td>\n",
       "      <td>0</td>\n",
       "      <td>1</td>\n",
       "    </tr>\n",
       "    <tr>\n",
       "      <th>1</th>\n",
       "      <td>1</td>\n",
       "      <td>49</td>\n",
       "      <td>0</td>\n",
       "      <td>0</td>\n",
       "      <td>1</td>\n",
       "      <td>0</td>\n",
       "      <td>0</td>\n",
       "      <td>85.230000</td>\n",
       "      <td>25.400000</td>\n",
       "      <td>3</td>\n",
       "      <td>0</td>\n",
       "    </tr>\n",
       "    <tr>\n",
       "      <th>2</th>\n",
       "      <td>0</td>\n",
       "      <td>58</td>\n",
       "      <td>0</td>\n",
       "      <td>0</td>\n",
       "      <td>1</td>\n",
       "      <td>0</td>\n",
       "      <td>0</td>\n",
       "      <td>197.174377</td>\n",
       "      <td>34.870606</td>\n",
       "      <td>0</td>\n",
       "      <td>1</td>\n",
       "    </tr>\n",
       "    <tr>\n",
       "      <th>3</th>\n",
       "      <td>1</td>\n",
       "      <td>69</td>\n",
       "      <td>0</td>\n",
       "      <td>0</td>\n",
       "      <td>1</td>\n",
       "      <td>1</td>\n",
       "      <td>1</td>\n",
       "      <td>99.680000</td>\n",
       "      <td>17.600000</td>\n",
       "      <td>0</td>\n",
       "      <td>0</td>\n",
       "    </tr>\n",
       "    <tr>\n",
       "      <th>4</th>\n",
       "      <td>0</td>\n",
       "      <td>60</td>\n",
       "      <td>0</td>\n",
       "      <td>0</td>\n",
       "      <td>1</td>\n",
       "      <td>0</td>\n",
       "      <td>0</td>\n",
       "      <td>69.200000</td>\n",
       "      <td>30.900000</td>\n",
       "      <td>1</td>\n",
       "      <td>0</td>\n",
       "    </tr>\n",
       "  </tbody>\n",
       "</table>\n",
       "</div>"
      ],
      "text/plain": [
       "   gender  age  hypertension  heart_disease  ever_married  work_type  \\\n",
       "0       0   73             0              0             1          0   \n",
       "1       1   49             0              0             1          0   \n",
       "2       0   58             0              0             1          0   \n",
       "3       1   69             0              0             1          1   \n",
       "4       0   60             0              0             1          0   \n",
       "\n",
       "   Residence_type  avg_glucose_level        bmi  smoking_status  stroke  \n",
       "0               1         143.509078  29.160236               0       1  \n",
       "1               0          85.230000  25.400000               3       0  \n",
       "2               0         197.174377  34.870606               0       1  \n",
       "3               1          99.680000  17.600000               0       0  \n",
       "4               0          69.200000  30.900000               1       0  "
      ]
     },
     "execution_count": 4,
     "metadata": {},
     "output_type": "execute_result"
    }
   ],
   "source": [
    "# Загрузим датасет\n",
    "df = pd.read_csv('23.4 stroke_data_encoded.csv')\n",
    "df.head()"
   ]
  },
  {
   "cell_type": "code",
   "execution_count": 5,
   "id": "ec31ec4a",
   "metadata": {
    "id": "ec31ec4a"
   },
   "outputs": [],
   "source": [
    "# разделим данные на тренировочный и тестовый сеты в соотношении 70 на 30\n",
    "# х - входные фичи\n",
    "# у - целевое значение\n",
    "x = df.drop(['stroke'], axis=1)\n",
    "y = df.stroke\n",
    "train_x, test_x, train_y, test_y = train_test_split(x, y, test_size = 0.3, random_state=42)"
   ]
  },
  {
   "cell_type": "code",
   "execution_count": 6,
   "id": "95d0ef47",
   "metadata": {
    "id": "95d0ef47",
    "outputId": "fbf9b11f-e5a6-4a51-80d3-4ca82f9fc45f"
   },
   "outputs": [
    {
     "name": "stderr",
     "output_type": "stream",
     "text": [
      "C:\\Users\\HP Z2\\anaconda3\\lib\\site-packages\\sklearn\\linear_model\\_logistic.py:763: ConvergenceWarning: lbfgs failed to converge (status=1):\n",
      "STOP: TOTAL NO. of ITERATIONS REACHED LIMIT.\n",
      "\n",
      "Increase the number of iterations (max_iter) or scale the data as shown in:\n",
      "    https://scikit-learn.org/stable/modules/preprocessing.html\n",
      "Please also refer to the documentation for alternative solver options:\n",
      "    https://scikit-learn.org/stable/modules/linear_model.html#logistic-regression\n",
      "  n_iter_i = _check_optimize_result(\n"
     ]
    },
    {
     "data": {
      "text/plain": [
       "0.8191666666666667"
      ]
     },
     "execution_count": 6,
     "metadata": {},
     "output_type": "execute_result"
    }
   ],
   "source": [
    "# обучим модель на примере одной переменной \n",
    "logreg = LogisticRegression(random_state=42)\n",
    "logreg.fit(train_x, train_y)\n",
    "\n",
    "pred = logreg.predict(test_x)\n",
    "accuracy_score(test_y, pred)"
   ]
  },
  {
   "cell_type": "code",
   "execution_count": 7,
   "id": "04a5afac",
   "metadata": {
    "id": "04a5afac",
    "outputId": "3942e325-0f91-40b2-9790-f6510321ee1b"
   },
   "outputs": [
    {
     "data": {
      "text/plain": [
       "MLPClassifier(max_iter=500, random_state=42)"
      ]
     },
     "execution_count": 7,
     "metadata": {},
     "output_type": "execute_result"
    }
   ],
   "source": [
    "# обучим модель многослойный песептрон\n",
    "mlp = MLPClassifier(random_state=42, max_iter=500)\n",
    "mlp.fit(train_x, train_y)"
   ]
  },
  {
   "cell_type": "code",
   "execution_count": 8,
   "id": "f97639b3",
   "metadata": {
    "id": "f97639b3",
    "outputId": "df3194b5-b261-4c0a-a35e-f95487ad1e57"
   },
   "outputs": [
    {
     "data": {
      "text/plain": [
       "0.8425"
      ]
     },
     "execution_count": 8,
     "metadata": {},
     "output_type": "execute_result"
    }
   ],
   "source": [
    "# рассчитаем accuracy_score\n",
    "pred_mlp = mlp.predict(test_x)\n",
    "accuracy_score(test_y, pred_mlp)"
   ]
  },
  {
   "cell_type": "code",
   "execution_count": 9,
   "id": "a2124a8a",
   "metadata": {
    "id": "a2124a8a",
    "outputId": "ef9914ce-a915-443b-90b8-6c8e042a2c7d"
   },
   "outputs": [
    {
     "data": {
      "text/plain": [
       "{'activation': 'relu',\n",
       " 'alpha': 0.0001,\n",
       " 'batch_size': 'auto',\n",
       " 'beta_1': 0.9,\n",
       " 'beta_2': 0.999,\n",
       " 'early_stopping': False,\n",
       " 'epsilon': 1e-08,\n",
       " 'hidden_layer_sizes': (100,),\n",
       " 'learning_rate': 'constant',\n",
       " 'learning_rate_init': 0.001,\n",
       " 'max_fun': 15000,\n",
       " 'max_iter': 500,\n",
       " 'momentum': 0.9,\n",
       " 'n_iter_no_change': 10,\n",
       " 'nesterovs_momentum': True,\n",
       " 'power_t': 0.5,\n",
       " 'random_state': 42,\n",
       " 'shuffle': True,\n",
       " 'solver': 'adam',\n",
       " 'tol': 0.0001,\n",
       " 'validation_fraction': 0.1,\n",
       " 'verbose': False,\n",
       " 'warm_start': False}"
      ]
     },
     "execution_count": 9,
     "metadata": {},
     "output_type": "execute_result"
    }
   ],
   "source": [
    "# выведем параметры mlp\n",
    "mlp.get_params()"
   ]
  },
  {
   "cell_type": "code",
   "execution_count": 10,
   "id": "eba2d493",
   "metadata": {
    "id": "eba2d493",
    "outputId": "7eee69d4-73bf-4f66-b743-28443324d748"
   },
   "outputs": [
    {
     "data": {
      "text/plain": [
       "3"
      ]
     },
     "execution_count": 10,
     "metadata": {},
     "output_type": "execute_result"
    }
   ],
   "source": [
    "# выведем количество слоев\n",
    "mlp.n_layers_"
   ]
  },
  {
   "cell_type": "code",
   "execution_count": 11,
   "id": "681904f0",
   "metadata": {
    "id": "681904f0",
    "outputId": "dd080c48-1d9e-448a-9d3c-1d7a92559b3d"
   },
   "outputs": [
    {
     "data": {
      "text/plain": [
       "MLPClassifier(activation='tanh', hidden_layer_sizes=(100, 20), max_iter=500,\n",
       "              random_state=42)"
      ]
     },
     "execution_count": 11,
     "metadata": {},
     "output_type": "execute_result"
    }
   ],
   "source": [
    "# изменим параметры персептрона\n",
    "# hidden_layer_sizes=(100,20) 2 скрытых слоя 1 - 100, 2 - 20 нейронов\n",
    "# activation = 'tanh' сменим на тангенс\n",
    "mlp_tuned = MLPClassifier(random_state=42, max_iter=500, hidden_layer_sizes=(100,20), activation = 'tanh')\n",
    "mlp_tuned.fit(train_x, train_y)"
   ]
  },
  {
   "cell_type": "code",
   "execution_count": 12,
   "id": "b190e854",
   "metadata": {
    "id": "b190e854",
    "outputId": "f7fa5f67-eee9-47b1-dbe1-eb04f0d0ab68"
   },
   "outputs": [
    {
     "data": {
      "text/plain": [
       "4"
      ]
     },
     "execution_count": 12,
     "metadata": {},
     "output_type": "execute_result"
    }
   ],
   "source": [
    "# выведем количество слоев\n",
    "mlp_tuned.n_layers_"
   ]
  },
  {
   "cell_type": "code",
   "execution_count": 13,
   "id": "6bbb7d4a",
   "metadata": {
    "id": "6bbb7d4a",
    "outputId": "ff1ce20b-d6c4-4d12-e3f3-06420c1769f4"
   },
   "outputs": [
    {
     "data": {
      "text/plain": [
       "0.8733333333333333"
      ]
     },
     "execution_count": 13,
     "metadata": {},
     "output_type": "execute_result"
    }
   ],
   "source": [
    "# рассчитаем accuracy_score\n",
    "pred_mlp2 = mlp_tuned.predict(test_x)\n",
    "accuracy_score(test_y, pred_mlp2)"
   ]
  },
  {
   "cell_type": "code",
   "execution_count": 14,
   "id": "417a41c3",
   "metadata": {
    "id": "417a41c3",
    "outputId": "1dc13c7e-acdf-4f9d-9966-c92ff725b54b"
   },
   "outputs": [
    {
     "data": {
      "text/plain": [
       "array([[500, 104],\n",
       "       [ 48, 548]], dtype=int64)"
      ]
     },
     "execution_count": 14,
     "metadata": {},
     "output_type": "execute_result"
    }
   ],
   "source": [
    "# рассчитаем confusion_matrix\n",
    "confusion_matrix(test_y, pred_mlp2)"
   ]
  },
  {
   "cell_type": "code",
   "execution_count": 15,
   "id": "c7fd869f",
   "metadata": {
    "id": "c7fd869f",
    "outputId": "46d2b358-5121-41a6-861a-e88626b639d7"
   },
   "outputs": [
    {
     "data": {
      "text/plain": [
       "array([[514,  90],\n",
       "       [ 99, 497]], dtype=int64)"
      ]
     },
     "execution_count": 15,
     "metadata": {},
     "output_type": "execute_result"
    }
   ],
   "source": [
    "confusion_matrix(test_y, pred_mlp)"
   ]
  },
  {
   "cell_type": "code",
   "execution_count": null,
   "id": "1b0e0c81",
   "metadata": {
    "id": "1b0e0c81"
   },
   "outputs": [],
   "source": []
  }
 ],
 "metadata": {
  "colab": {
   "collapsed_sections": [],
   "name": "Нейронные сети.ipynb",
   "provenance": []
  },
  "kernelspec": {
   "display_name": "Python 3 (ipykernel)",
   "language": "python",
   "name": "python3"
  },
  "language_info": {
   "codemirror_mode": {
    "name": "ipython",
    "version": 3
   },
   "file_extension": ".py",
   "mimetype": "text/x-python",
   "name": "python",
   "nbconvert_exporter": "python",
   "pygments_lexer": "ipython3",
   "version": "3.9.7"
  }
 },
 "nbformat": 4,
 "nbformat_minor": 5
}
